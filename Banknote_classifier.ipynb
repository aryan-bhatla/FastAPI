{
 "cells": [
  {
   "cell_type": "code",
   "execution_count": 20,
   "id": "3c0556c3",
   "metadata": {},
   "outputs": [
    {
     "name": "stderr",
     "output_type": "stream",
     "text": [
      "C:\\Users\\Ray\\AppData\\Local\\Programs\\Python\\Python311\\Lib\\site-packages\\sklearn\\base.py:450: UserWarning: X does not have valid feature names, but RandomForestClassifier was fitted with feature names\n",
      "  warnings.warn(\n"
     ]
    },
    {
     "data": {
      "text/plain": [
       "0.9902912621359223"
      ]
     },
     "execution_count": 20,
     "metadata": {},
     "output_type": "execute_result"
    }
   ],
   "source": [
    "# Basic banknote authentication model \n",
    "\n",
    "import pandas as pd \n",
    "import numpy as np\n",
    "\n",
    "dataset = pd.read_csv('C:\\\\Users\\\\Ray\\\\Downloads\\\\archive\\\\BankNote_Authentication.csv')\n",
    "\n",
    "# Display the data \n",
    "dataset\n",
    "\n",
    "# Divide into dependent and independent features \n",
    "X = dataset.iloc[:,:-1]\n",
    "Y = dataset.iloc[:,-1]\n",
    "\n",
    "# Train test split \n",
    "from sklearn.model_selection import train_test_split\n",
    "\n",
    "X_train, X_test, Y_train, Y_test = train_test_split(X,Y,test_size = 0.3, random_state = 0)\n",
    "\n",
    "# Random forest classifier \n",
    "from sklearn.ensemble import RandomForestClassifier\n",
    "classifier = RandomForestClassifier()\n",
    "classifier.fit(X_train,Y_train)\n",
    "\n",
    "# Prediction \n",
    "Y_prediction = classifier.predict(X_test)\n",
    "\n",
    "# Check accuracy \n",
    "from sklearn.metrics import accuracy_score \n",
    "score = accuracy_score(Y_test,Y_prediction)\n",
    "\n",
    "# Create pickle file via serialization \n",
    "import pickle\n",
    "pickle_out = open(\"classifier.pkl\",\"wb\")\n",
    "pickle.dump(classifier,pickle_out)\n",
    "pickle_out.close()\n",
    "\n",
    "import numpy as np\n",
    "\n",
    "classifier.predict([[2,3,4,1]])\n",
    "\n",
    "score"
   ]
  },
  {
   "cell_type": "code",
   "execution_count": null,
   "id": "74e3c4e1",
   "metadata": {},
   "outputs": [],
   "source": []
  }
 ],
 "metadata": {
  "kernelspec": {
   "display_name": "Python 3 (ipykernel)",
   "language": "python",
   "name": "python3"
  },
  "language_info": {
   "codemirror_mode": {
    "name": "ipython",
    "version": 3
   },
   "file_extension": ".py",
   "mimetype": "text/x-python",
   "name": "python",
   "nbconvert_exporter": "python",
   "pygments_lexer": "ipython3",
   "version": "3.11.0"
  }
 },
 "nbformat": 4,
 "nbformat_minor": 5
}
